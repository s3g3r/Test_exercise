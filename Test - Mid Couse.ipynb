{
 "cells": [
  {
   "cell_type": "markdown",
   "metadata": {},
   "source": [
    "## Test"
   ]
  },
  {
   "cell_type": "markdown",
   "metadata": {},
   "source": [
    "Instructions:\n",
    "\n",
    "All the questions are mandatory. Please do not use google to answer these questions.\n",
    "\n",
    "There are no marks associated with any questions.\n",
    "\n",
    "Do not run the cell with amazon question.\n",
    "\n",
    "I hope you guys will enjoy this exercise."
   ]
  },
  {
   "cell_type": "markdown",
   "metadata": {},
   "source": [
    "#### What is the difference between List, String, Dictionaries and Tuples ? State with examples?"
   ]
  },
  {
   "cell_type": "code",
   "execution_count": 80,
   "metadata": {},
   "outputs": [
    {
     "name": "stdout",
     "output_type": "stream",
     "text": [
      "<class 'list'> <class 'str'> <class 'dict'> <class 'tuple'>\n"
     ]
    }
   ],
   "source": [
    "lis = [1,2,3,4,5,6]\n",
    "string = 'sagar kunal'\n",
    "dictionary = {'a':'value1','b':'value2','c':'value2'}\n",
    "tuples = (1,2,3,4,6)\n",
    "print(type(lis),type(string),type(dictionary),type(tuples))"
   ]
  },
  {
   "cell_type": "markdown",
   "metadata": {},
   "source": [
    "__________________________________________________________"
   ]
  },
  {
   "cell_type": "markdown",
   "metadata": {},
   "source": [
    "#### What is the difference betweeen Array and Lists."
   ]
  },
  {
   "cell_type": "code",
   "execution_count": null,
   "metadata": {},
   "outputs": [],
   "source": [
    "#They both can be used to store any data type (real numbers, strings, etc), and they both can be indexed and iterated \n",
    "#through, but the similarities between the two don't go much further. The main difference between a list and an array is \n",
    "#the functions that you can perform to them. For example, you can divide an array by 3, and each number in the array will \n",
    "#be divided by 3 and the result will be printed if you request it. If you try to divide a list by 3, Python will tell you \n",
    "#that it can't be done, and an error will be thrown"
   ]
  },
  {
   "cell_type": "markdown",
   "metadata": {},
   "source": [
    "#### what is the difference between Numpy, Series and Dataframes?Give an elaborate answer with examples."
   ]
  },
  {
   "cell_type": "code",
   "execution_count": 51,
   "metadata": {},
   "outputs": [
    {
     "name": "stdout",
     "output_type": "stream",
     "text": [
      "4    1\n",
      "5    2\n",
      "6    3\n",
      "dtype: int64\n",
      "<class 'pandas.core.series.Series'>\n",
      "<class 'numpy.ndarray'>\n",
      "<class 'pandas.core.frame.DataFrame'>\n"
     ]
    }
   ],
   "source": [
    "import numpy as np\n",
    "import pandas as pd\n",
    "arr1 = [1,2,3]\n",
    "arr2 = [4,5,6]\n",
    "a1 = np.array(arr1)\n",
    "a2 = np.array(arr2)\n",
    "s1  = a1+a2    # numerical python to add multily two arrays\n",
    "dff = pd.Series(data=arr1,index=arr2) # label indexing\n",
    "print(dff)\n",
    "print(type(dff))\n",
    "print(type(s1))\n",
    "dg = {'A':[1,65,3],'B':[4,364,34,],'C':[5,6,7]}\n",
    "data = pd.DataFrame(dg)  #row and coloums with their index values\n",
    "print(type(data))"
   ]
  },
  {
   "cell_type": "markdown",
   "metadata": {},
   "source": [
    "#### Given a string, return a \"rotated left 2\" version where the first 2 chars are moved to the end. The string length will be at least 2.\n",
    "\n",
    "\n",
    "\n",
    "left2('Hello') → 'lloHe'\n",
    "\n",
    "left2('java') → 'vaja'\n",
    "\n",
    "left2('Hi') → 'Hi'"
   ]
  },
  {
   "cell_type": "code",
   "execution_count": 17,
   "metadata": {},
   "outputs": [
    {
     "name": "stdout",
     "output_type": "stream",
     "text": [
      "lloHe\n",
      "vaja\n",
      "hi\n"
     ]
    }
   ],
   "source": [
    "l = 'Hello'\n",
    "a= l[:2]\n",
    "b =l[2:]\n",
    "print(b+a)\n",
    "l2 = 'java'\n",
    "va = l2[2:]\n",
    "ja =l2[:2]\n",
    "print(va+ja)\n",
    "l3 = 'hi'\n",
    "print(l3)"
   ]
  },
  {
   "cell_type": "markdown",
   "metadata": {},
   "source": [
    "#### Given an array length 1 or more of ints, return the difference between the largest and smallest values in the array. Note: the built-in min(v1, v2) and max(v1, v2) functions return the smaller or larger of two values.\n",
    "\n"
   ]
  },
  {
   "cell_type": "markdown",
   "metadata": {},
   "source": [
    "big_diff([10, 3, 5, 6]) → 7\n",
    "\n",
    "big_diff([7, 2, 10, 9]) → 8\n",
    "\n",
    "big_diff([2, 10, 7, 2]) → 8"
   ]
  },
  {
   "cell_type": "code",
   "execution_count": 98,
   "metadata": {},
   "outputs": [
    {
     "name": "stdout",
     "output_type": "stream",
     "text": [
      "600\n"
     ]
    },
    {
     "data": {
      "text/plain": [
       "<function __main__.dif_mxmn()>"
      ]
     },
     "execution_count": 98,
     "metadata": {},
     "output_type": "execute_result"
    }
   ],
   "source": [
    "def dif_mxmn():\n",
    "    ar = [665,545,646,548,745,265,865]\n",
    "    array = np.array(ar)\n",
    "    mx  = np.max(array)\n",
    "    mn  = np.min(array)\n",
    "print(mx-mn)\n",
    "dif_mxmn"
   ]
  },
  {
   "cell_type": "markdown",
   "metadata": {},
   "source": [
    "####  What is the difference between Mean and Median? Why median is the most robust metric?"
   ]
  },
  {
   "cell_type": "code",
   "execution_count": 81,
   "metadata": {},
   "outputs": [
    {
     "name": "stdout",
     "output_type": "stream",
     "text": [
      "Mean =  22.6\n",
      "Medain =  5.5\n"
     ]
    }
   ],
   "source": [
    "import numpy as np \n",
    "import pandas as pd\n",
    "list1 = [1,2,3,4,5,6,7,8,90,100]\n",
    "aaa = np.array(list1)\n",
    "print(\"Mean = \",aaa.mean())\n",
    "tt = pd.Series(aaa)\n",
    "print(\"Medain = \",tt.median()) # median is the most robust metric because it doesn't depand on outliers."
   ]
  },
  {
   "cell_type": "markdown",
   "metadata": {},
   "source": [
    "#### Explain indentation in Python and what is it significance?"
   ]
  },
  {
   "cell_type": "code",
   "execution_count": 71,
   "metadata": {},
   "outputs": [
    {
     "ename": "IndentationError",
     "evalue": "unindent does not match any outer indentation level (<ipython-input-71-a7eca5f568f8>, line 7)",
     "output_type": "error",
     "traceback": [
      "\u001b[0;36m  File \u001b[0;32m\"<ipython-input-71-a7eca5f568f8>\"\u001b[0;36m, line \u001b[0;32m7\u001b[0m\n\u001b[0;31m    print('All done!')   # this shows indentation error because code should write in a specfic block\u001b[0m\n\u001b[0m                                                                                                    ^\u001b[0m\n\u001b[0;31mIndentationError\u001b[0m\u001b[0;31m:\u001b[0m unindent does not match any outer indentation level\n"
     ]
    }
   ],
   "source": [
    "pwd = 'apple'\n",
    "if pwd == 'apple':\n",
    "    print('Logging on ...')\n",
    "else:\n",
    "    print('Incorrect password.')\n",
    "\n",
    "   print('All done!')   # this shows indentation error because code should  be write in a specfic block"
   ]
  },
  {
   "cell_type": "markdown",
   "metadata": {},
   "source": [
    "### What is immutability ?"
   ]
  },
  {
   "cell_type": "code",
   "execution_count": 25,
   "metadata": {},
   "outputs": [
    {
     "ename": "TypeError",
     "evalue": "'tuple' object does not support item assignment",
     "output_type": "error",
     "traceback": [
      "\u001b[0;31m---------------------------------------------------------------------------\u001b[0m",
      "\u001b[0;31mTypeError\u001b[0m                                 Traceback (most recent call last)",
      "\u001b[0;32m<ipython-input-25-7cff7caf2ae4>\u001b[0m in \u001b[0;36m<module>\u001b[0;34m()\u001b[0m\n\u001b[1;32m      1\u001b[0m \u001b[0ml\u001b[0m \u001b[0;34m=\u001b[0m \u001b[0;34m(\u001b[0m\u001b[0;36m1\u001b[0m\u001b[0;34m,\u001b[0m\u001b[0;36m4\u001b[0m\u001b[0;34m,\u001b[0m\u001b[0;36m65\u001b[0m\u001b[0;34m,\u001b[0m\u001b[0;36m8\u001b[0m\u001b[0;34m,\u001b[0m\u001b[0;36m9\u001b[0m\u001b[0;34m)\u001b[0m\u001b[0;34m\u001b[0m\u001b[0m\n\u001b[0;32m----> 2\u001b[0;31m \u001b[0ml\u001b[0m\u001b[0;34m[\u001b[0m\u001b[0;36m1\u001b[0m\u001b[0;34m]\u001b[0m \u001b[0;34m=\u001b[0m \u001b[0;36m6\u001b[0m\u001b[0;34m\u001b[0m\u001b[0m\n\u001b[0m\u001b[1;32m      3\u001b[0m \u001b[0ml\u001b[0m\u001b[0;34m\u001b[0m\u001b[0m\n",
      "\u001b[0;31mTypeError\u001b[0m: 'tuple' object does not support item assignment"
     ]
    }
   ],
   "source": [
    "#It is an object whose state cannot be modified after it is created\n",
    "l = (1,4,65,8,9)\n",
    "l[1] = 6\n",
    "l"
   ]
  },
  {
   "cell_type": "markdown",
   "metadata": {},
   "source": [
    "### What is Broadcasting in numpy?"
   ]
  },
  {
   "cell_type": "code",
   "execution_count": 13,
   "metadata": {},
   "outputs": [
    {
     "data": {
      "text/plain": [
       "array([100, 100, 100, 100, 100, 100, 100, 100, 100, 100,  11,  12,  13,\n",
       "        14,  15,  16,  17,  18,  19])"
      ]
     },
     "execution_count": 13,
     "metadata": {},
     "output_type": "execute_result"
    }
   ],
   "source": [
    "import numpy as np\n",
    "ff = np.arange(1,20)\n",
    "ff[0:10] = 100\n",
    "ff"
   ]
  },
  {
   "cell_type": "markdown",
   "metadata": {},
   "source": [
    "![title](test mid course probability.png)"
   ]
  },
  {
   "cell_type": "markdown",
   "metadata": {},
   "source": [
    "####  Mark out Marginal probabilities and  Joint Probabilities. Define in your own words."
   ]
  },
  {
   "cell_type": "code",
   "execution_count": null,
   "metadata": {},
   "outputs": [],
   "source": [
    "marginal probality = 0.971,0.029,1.00,0.345,0.243,0.243,0.412\n",
    "joint probablity = 0.396,0.243,0.332,0.016,0.000,0.029"
   ]
  },
  {
   "cell_type": "markdown",
   "metadata": {},
   "source": [
    "_____________________________________"
   ]
  },
  {
   "cell_type": "markdown",
   "metadata": {},
   "source": [
    "####  Customers from which website are most likely to make a purchase on Amazon.com? Hint: treat that customers make a purchase as a given."
   ]
  },
  {
   "cell_type": "code",
   "execution_count": null,
   "metadata": {},
   "outputs": [],
   "source": [
    "MSN"
   ]
  },
  {
   "cell_type": "code",
   "execution_count": 155,
   "metadata": {},
   "outputs": [],
   "source": [
    "import pandas as pd\n",
    "from IPython.display import display\n",
    "from IPython.display import Image"
   ]
  },
  {
   "cell_type": "markdown",
   "metadata": {},
   "source": [
    "#### What are three probability definitions, state with exampples in your own language?"
   ]
  },
  {
   "cell_type": "code",
   "execution_count": null,
   "metadata": {},
   "outputs": [],
   "source": [
    "1.(classical defination)--- no of favorible outcomes/total\n",
    "2.(imperival defination)----previous data get alnalysised to get probablity of future\n",
    "3. (subjective defination)---wo have no previos data based on intution."
   ]
  },
  {
   "cell_type": "code",
   "execution_count": null,
   "metadata": {},
   "outputs": [],
   "source": []
  },
  {
   "cell_type": "markdown",
   "metadata": {},
   "source": [
    "\n",
    "#### Given an array of ints, return True if the sequence of numbers 1, 2, 3 appears in the array somewhere.\n",
    "\n",
    "\n",
    "array123([1, 1, 2, 3, 1]) → True\n",
    "\n",
    "array123([1, 1, 2, 4, 1]) → False\n",
    "\n",
    "array123([1, 1, 2, 1, 2, 3]) → True\n"
   ]
  },
  {
   "cell_type": "code",
   "execution_count": 154,
   "metadata": {},
   "outputs": [
    {
     "name": "stdout",
     "output_type": "stream",
     "text": [
      "True\n",
      "False\n",
      "True\n"
     ]
    }
   ],
   "source": [
    "def array123(seq):\n",
    "    return (1, 2, 3) in zip(seq, seq[1:], seq[2:])\n",
    "print(array123([1, 1, 2, 3, 1]))\n",
    "print(array123([1, 1, 2, 4, 1]))\n",
    "print(array123([1, 1, 2, 1, 2, 3]))"
   ]
  },
  {
   "cell_type": "markdown",
   "metadata": {},
   "source": [
    "#### What is the difference between set_index and reset_index and reindex?"
   ]
  },
  {
   "cell_type": "code",
   "execution_count": null,
   "metadata": {},
   "outputs": [],
   "source": [
    "df.set_index() #In set index we aassign a coloum to a new index of a dataframe\n",
    "df.reset_index() # It changes the the index to the by default index of python i.e 0,1,2,3,4\n",
    "df.reindex(index=['a','b','c','d'] # If we set a index 1,2,3,4 then we can again change the index with the help of reindex()"
   ]
  }
 ],
 "metadata": {
  "kernelspec": {
   "display_name": "Python 3",
   "language": "python",
   "name": "python3"
  },
  "language_info": {
   "codemirror_mode": {
    "name": "ipython",
    "version": 3
   },
   "file_extension": ".py",
   "mimetype": "text/x-python",
   "name": "python",
   "nbconvert_exporter": "python",
   "pygments_lexer": "ipython3",
   "version": "3.7.0"
  }
 },
 "nbformat": 4,
 "nbformat_minor": 2
}
